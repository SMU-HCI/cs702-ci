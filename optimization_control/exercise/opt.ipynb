{
 "cells": [
  {
   "cell_type": "code",
   "execution_count": 1,
   "metadata": {},
   "outputs": [
    {
     "name": "stdout",
     "output_type": "stream",
     "text": [
      "\n",
      "Problem: \n",
      "- Lower bound: -inf\n",
      "  Upper bound: inf\n",
      "  Number of objectives: 1\n",
      "  Number of constraints: 200\n",
      "  Number of variables: 402\n",
      "  Sense: unknown\n",
      "Solver: \n",
      "- Status: ok\n",
      "  Message: Ipopt 3.14.17\\x3a Optimal Solution Found\n",
      "  Termination condition: optimal\n",
      "  Id: 0\n",
      "  Error rc: 0\n",
      "  Time: 0.00914907455444336\n",
      "Solution: \n",
      "- number of solutions: 0\n",
      "  number of solutions displayed: 0\n",
      "\n"
     ]
    }
   ],
   "source": [
    "import matplotlib.pyplot as plt\n",
    "import pyomo.environ as pyo\n",
    "import pyomo.dae as dae\n",
    "\n",
    "m = pyo.ConcreteModel()\n",
    "\n",
    "# Create a model, set the time domain, and define the parameters\n",
    "X = 10\n",
    "T = 10\n",
    "\n",
    "m.t = dae.ContinuousSet(bounds=(0, T))\n",
    "m.u = pyo.Var(m.t, initialize=0, bounds=(-1, 1))\n",
    "\n",
    "m.x = pyo.Var(m.t)\n",
    "m.v = pyo.Var(m.t)\n",
    "\n",
    "m.c = pyo.Param(initialize=-0.2)\n",
    "\n",
    "m.dxdt = dae.DerivativeVar(m.x, wrt=m.t)\n",
    "m.dvdt = dae.DerivativeVar(m.v, wrt=m.t)\n",
    "\n",
    "# Define the differential equations as constraints\n",
    "# !!! Implement this !!!\n",
    "\n",
    "# Set initial conditions\n",
    "# !!! Implement this !!!\n",
    "\n",
    "\n",
    "# Define the objective\n",
    "# !!! Implement this !!!\n",
    "\n",
    "# Discretize model and solve it\n",
    "discretizer = pyo.TransformationFactory('dae.finite_difference')\n",
    "discretizer.apply_to(m, nfe=100, wrt=m.t, scheme='BACKWARD')\n",
    "\n",
    "\n",
    "solver = pyo.SolverFactory('ipopt')\n",
    "solution = solver.solve(m, tee=False)\n",
    "print(solution)"
   ]
  },
  {
   "cell_type": "code",
   "execution_count": null,
   "metadata": {},
   "outputs": [],
   "source": []
  }
 ],
 "metadata": {
  "kernelspec": {
   "display_name": "base",
   "language": "python",
   "name": "python3"
  },
  "language_info": {
   "codemirror_mode": {
    "name": "ipython",
    "version": 3
   },
   "file_extension": ".py",
   "mimetype": "text/x-python",
   "name": "python",
   "nbconvert_exporter": "python",
   "pygments_lexer": "ipython3",
   "version": "3.12.7"
  }
 },
 "nbformat": 4,
 "nbformat_minor": 2
}
