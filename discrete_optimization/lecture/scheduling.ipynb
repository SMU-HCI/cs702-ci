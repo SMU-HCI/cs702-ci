{
 "cells": [
  {
   "cell_type": "markdown",
   "id": "d77ba148",
   "metadata": {},
   "source": [
    "# Simple Scheduling"
   ]
  },
  {
   "cell_type": "code",
   "execution_count": 1,
   "id": "2379653e",
   "metadata": {},
   "outputs": [
    {
     "name": "stdout",
     "output_type": "stream",
     "text": [
      "number of variables: 27\n"
     ]
    }
   ],
   "source": [
    "import numpy as np\n",
    "from scipy.optimize import milp, LinearConstraint, Bounds\n",
    "\n",
    "\n",
    "num_agents = 3\n",
    "num_rounds = 3\n",
    "num_slots = 3\n",
    "\n",
    "num_vars = num_agents * num_rounds * num_slots\n",
    "print(f\"number of variables: {num_vars}\")\n",
    "# 27"
   ]
  },
  {
   "cell_type": "code",
   "execution_count": 2,
   "id": "21917d7f",
   "metadata": {},
   "outputs": [
    {
     "name": "stdout",
     "output_type": "stream",
     "text": [
      "variable index = 15\n"
     ]
    }
   ],
   "source": [
    "def var_index(agent: int, round: int, slot: int) -> int:\n",
    "    \"\"\"Convert (agent, round, slot) to an array index\"\"\"\n",
    "    return agent * num_rounds * num_slots + round * num_slots + slot\n",
    "\n",
    "\n",
    "# Variable index for agent 1, round 2, slot 0\n",
    "example_idx = var_index(1, 2, 0)\n",
    "print(f\"variable index = {example_idx}\")"
   ]
  },
  {
   "cell_type": "code",
   "execution_count": 3,
   "id": "96a6dd07",
   "metadata": {},
   "outputs": [],
   "source": [
    "c = np.zeros(num_vars)"
   ]
  },
  {
   "cell_type": "code",
   "execution_count": 4,
   "id": "5c129584",
   "metadata": {},
   "outputs": [
    {
     "name": "stdout",
     "output_type": "stream",
     "text": [
      "[1. 1. 1. 1. 1. 1. 1. 1. 1. 1. 1. 1. 1. 1. 1. 1. 1. 1. 1. 1. 1. 1. 1. 1.\n",
      " 1. 1. 1.]\n"
     ]
    }
   ],
   "source": [
    "integrality = np.ones(num_vars)\n",
    "print(integrality)  # 1 means integer variable for `milp`\n",
    "\n",
    "bounds = Bounds(lb=np.zeros(num_vars), ub=np.ones(num_vars))"
   ]
  },
  {
   "cell_type": "code",
   "execution_count": 5,
   "id": "0b5db632",
   "metadata": {},
   "outputs": [],
   "source": [
    "A_eq = []\n",
    "b_eq = []\n",
    "\n",
    "for round in range(num_rounds):\n",
    "    for slot in range(num_slots):\n",
    "        constraint = np.zeros(num_vars)\n",
    "\n",
    "        for agent in range(num_agents):\n",
    "            constraint[var_index(agent, round, slot)] = 1\n",
    "\n",
    "        A_eq.append(constraint)\n",
    "        b_eq.append(1)  # Sum must equal 1"
   ]
  },
  {
   "cell_type": "code",
   "execution_count": 6,
   "id": "16d3492d",
   "metadata": {},
   "outputs": [],
   "source": [
    "A_ub = []\n",
    "b_ub = []\n",
    "\n",
    "for agent in range(num_agents):\n",
    "    for round in range(num_rounds):\n",
    "        constraint = np.zeros(num_vars)\n",
    "\n",
    "        for slot in range(num_slots):\n",
    "            constraint[var_index(agent, round, slot)] = 1\n",
    "\n",
    "        A_ub.append(constraint)\n",
    "        b_ub.append(1)"
   ]
  },
  {
   "cell_type": "code",
   "execution_count": 7,
   "id": "7f8d76a1",
   "metadata": {},
   "outputs": [],
   "source": [
    "total_slots = num_slots * num_rounds\n",
    "min_slots_per_agent = total_slots // num_agents\n",
    "max_slots_per_agent = min_slots_per_agent + (1 if total_slots % num_agents != 0 else 0)\n",
    "\n",
    "\n",
    "A_range = []\n",
    "b_lb = []\n",
    "b_ub_range = []\n",
    "\n",
    "\n",
    "for agent in range(num_agents):\n",
    "    constraint = np.zeros(num_vars)\n",
    "    for round in range(num_rounds):\n",
    "        for slot in range(num_slots):\n",
    "            constraint[var_index(agent, round, slot)] = 1\n",
    "\n",
    "    A_range.append(constraint)\n",
    "    b_lb.append(min_slots_per_agent)\n",
    "    b_ub_range.append(max_slots_per_agent)"
   ]
  },
  {
   "cell_type": "code",
   "execution_count": 8,
   "id": "0f08f680",
   "metadata": {},
   "outputs": [],
   "source": [
    "A_eq = np.array(A_eq)\n",
    "b_eq = np.array(b_eq)\n",
    "A_ub = np.array(A_ub)\n",
    "b_ub = np.array(b_ub)\n",
    "A_range = np.array(A_range)\n",
    "b_lb = np.array(b_lb)\n",
    "b_ub_range = np.array(b_ub_range)\n",
    "\n",
    "\n",
    "constraints = [\n",
    "    LinearConstraint(A_eq, b_eq, b_eq),\n",
    "    LinearConstraint(A_ub, -np.inf, b_ub),\n",
    "    LinearConstraint(A_range, b_lb, b_ub_range),\n",
    "]\n"
   ]
  },
  {
   "cell_type": "code",
   "execution_count": 9,
   "id": "c7411322",
   "metadata": {},
   "outputs": [
    {
     "name": "stdout",
     "output_type": "stream",
     "text": [
      "Optimization terminated successfully. (HiGHS Status 7: Optimal)\n"
     ]
    }
   ],
   "source": [
    "result = milp(c=c, integrality=integrality, bounds=bounds, constraints=constraints)\n",
    "print(result.message)"
   ]
  },
  {
   "cell_type": "code",
   "execution_count": 10,
   "id": "21994bae",
   "metadata": {},
   "outputs": [
    {
     "name": "stdout",
     "output_type": "stream",
     "text": [
      "\n",
      "Round 0:\n",
      "  Agent 0 -> Slot 1\n",
      "  Agent 1 -> Slot 2\n",
      "  Agent 2 -> Slot 0\n",
      "\n",
      "Round 1:\n",
      "  Agent 0 -> Slot 0\n",
      "  Agent 1 -> Slot 2\n",
      "  Agent 2 -> Slot 1\n",
      "\n",
      "Round 2:\n",
      "  Agent 0 -> Slot 1\n",
      "  Agent 1 -> Slot 2\n",
      "  Agent 2 -> Slot 0\n"
     ]
    }
   ],
   "source": [
    "solution = result.x\n",
    "for round in range(num_rounds):\n",
    "    print(f\"\\nRound {round}:\")\n",
    "    for agent in range(num_agents):\n",
    "        for slot in range(num_slots):\n",
    "            if solution[var_index(agent, round, slot)] > 0:\n",
    "                print(f\"  Agent {agent} -> Slot {slot}\")\n",
    "\n",
    "# Round 0:\n",
    "#   Agent 0 -> Slot 1\n",
    "#   Agent 1 -> Slot 2\n",
    "#   Agent 2 -> Slot 0\n",
    "\n",
    "# Round 1:\n",
    "#   Agent 0 -> Slot 0\n",
    "#   Agent 1 -> Slot 2\n",
    "#   Agent 2 -> Slot 1\n",
    "\n",
    "# Round 2:\n",
    "#   Agent 0 -> Slot 1\n",
    "#   Agent 1 -> Slot 2\n",
    "#   Agent 2 -> Slot 0"
   ]
  },
  {
   "cell_type": "markdown",
   "id": "b12265bf",
   "metadata": {},
   "source": [
    "# Job Shop Scheduling"
   ]
  },
  {
   "cell_type": "code",
   "execution_count": 11,
   "id": "c835bc28",
   "metadata": {},
   "outputs": [],
   "source": [
    "import numpy as np\n",
    "from scipy.optimize import milp, LinearConstraint, Bounds\n",
    "\n",
    "# Customer appointment data\n",
    "# Each customer has a list of (agent, duration) tuples representing appointments\n",
    "customers_data = [\n",
    "    [(0, 3), (1, 2), (2, 2)],  # Customer 0: needs 3 appointments\n",
    "    [(0, 2), (2, 1), (1, 4)],  # Customer 1: needs 3 appointments\n",
    "    [(1, 4), (2, 3)],  # Customer 2: needs 2 appointments\n",
    "]\n",
    "\n",
    "# Calculate problem dimensions\n",
    "num_customers = len(customers_data)\n",
    "num_appointments_total = sum(len(customer) for customer in customers_data)\n",
    "num_agents = 1 + max(appt[0] for customer in customers_data for appt in customer)\n",
    "\n",
    "# Calculate horizon (upper bound for appointment start times)\n",
    "horizon = sum(appt[1] for customer in customers_data for appt in customer)"
   ]
  },
  {
   "cell_type": "code",
   "execution_count": 12,
   "id": "3d6a221e",
   "metadata": {},
   "outputs": [],
   "source": [
    "# Create appointment indexing\n",
    "appointment_info = []  # List of (customer_id, appt_id, agent, duration)\n",
    "appt_to_idx = {}  # Map (customer_id, appt_id) to variable index\n",
    "\n",
    "idx = 0\n",
    "for customer_id, customer in enumerate(customers_data):\n",
    "    for appt_id, (agent, duration) in enumerate(customer):\n",
    "        appointment_info.append((customer_id, appt_id, agent, duration))\n",
    "        appt_to_idx[(customer_id, appt_id)] = idx\n",
    "        idx += 1\n",
    "\n",
    "# Find pairs of appointments for the same agent (for no-overlap constraints)\n",
    "agent_appt_pairs = []\n",
    "for i in range(num_appointments_total):\n",
    "    for j in range(i + 1, num_appointments_total):\n",
    "        if appointment_info[i][2] == appointment_info[j][2]:  # Same agent\n",
    "            agent_appt_pairs.append((i, j))\n",
    "\n",
    "num_binary_vars = len(agent_appt_pairs)\n",
    "\n",
    "# Total variables: start times + makespan + binary ordering variables\n",
    "num_vars = num_appointments_total + 1 + num_binary_vars\n",
    "\n",
    "\n",
    "# Variable indexing functions\n",
    "def start_var_idx(customer_id, appt_id):\n",
    "    \"\"\"Get index for appointment start time variable\"\"\"\n",
    "    return appt_to_idx[(customer_id, appt_id)]\n",
    "\n",
    "\n",
    "def makespan_idx():\n",
    "    \"\"\"Get index for makespan variable\"\"\"\n",
    "    return num_appointments_total\n",
    "\n",
    "\n",
    "def binary_idx(pair_idx):\n",
    "    \"\"\"Get index for binary ordering variable\"\"\"\n",
    "    return num_appointments_total + 1 + pair_idx"
   ]
  },
  {
   "cell_type": "code",
   "execution_count": 13,
   "id": "a8fdcd96",
   "metadata": {},
   "outputs": [],
   "source": [
    "c = np.zeros(num_vars)\n",
    "c[makespan_idx()] = 1"
   ]
  },
  {
   "cell_type": "code",
   "execution_count": 14,
   "id": "fdf40a2c",
   "metadata": {},
   "outputs": [],
   "source": [
    "lb = np.zeros(num_vars)\n",
    "ub = np.full(num_vars, horizon)\n",
    "\n",
    "# Binary variables have upper bound of 1\n",
    "for i in range(num_binary_vars):\n",
    "    ub[binary_idx(i)] = 1\n",
    "\n",
    "# Integrality constraints (binary variables must be integer)\n",
    "integrality = np.zeros(num_vars)\n",
    "for i in range(num_binary_vars):\n",
    "    integrality[binary_idx(i)] = 1\n",
    "\n",
    "bounds = Bounds(lb=lb, ub=ub)"
   ]
  },
  {
   "cell_type": "code",

   "execution_count": 21,
   "id": "eb62ae78",
   "metadata": {},
   "outputs": [],

   "source": [
    "# Initialize constraint lists\n",
    "A_ub = []\n",
    "b_ub = []\n",
    "\n",
    "# Precedence constraints: within each customer, appointments must be done in order\n",
    "for customer_id, customer in enumerate(customers_data):\n",
    "    for appt_id in range(len(customer) - 1):\n",
    "        curr_idx = start_var_idx(customer_id, appt_id)\n",
    "        next_idx = start_var_idx(customer_id, appt_id + 1)\n",
    "        duration = customer[appt_id][1]\n",
    "\n",
    "        constraint = np.zeros(num_vars)\n",
    "        constraint[curr_idx] = 1\n",
    "        constraint[next_idx] = -1\n",
    "\n",
    "        A_ub.append(constraint)\n",
    "        b_ub.append(-duration)"
   ]
  },
  {
   "cell_type": "code",

   "execution_count": 22,

   "id": "94ead913",
   "metadata": {},
   "outputs": [
    {
     "name": "stdout",
     "output_type": "stream",
     "text": [
      "\n",
      "Building makespan constraints:\n"
     ]
    }
   ],
   "source": [
    "# Makespan constraints: makespan >= end time of last appointment for each customer\n",
    "print(\"\\nBuilding makespan constraints:\")\n",
    "for customer_id, customer in enumerate(customers_data):\n",
    "    last_appt_id = len(customer) - 1\n",
    "    last_appt_idx = start_var_idx(customer_id, last_appt_id)\n",
    "    last_duration = customer[last_appt_id][1]\n",
    "\n",
    "    constraint = np.zeros(num_vars)\n",
    "    constraint[last_appt_idx] = 1\n",
    "    constraint[makespan_idx()] = -1\n",
    "\n",
    "    A_ub.append(constraint)\n",
    "    b_ub.append(-last_duration)"
   ]
  },
  {
   "cell_type": "code",

   "execution_count": 23,

   "id": "a25345be",
   "metadata": {},
   "outputs": [],
   "source": [
    "# No-overlap constraints using big-M method\n",
    "M = horizon  # Big-M value\n",
    "\n",
    "for pair_idx, (i, j) in enumerate(agent_appt_pairs):\n",
    "    binary_var_idx = binary_idx(pair_idx)\n",
    "\n",
    "    cust_i, appt_i, agent_i, duration_i = appointment_info[i]\n",
    "    cust_j, appt_j, agent_j, duration_j = appointment_info[j]\n",
    "\n",
    "    constraint1 = np.zeros(num_vars)\n",
    "    constraint1[i] = 1\n",
    "    constraint1[j] = -1\n",
    "    constraint1[binary_var_idx] = M\n",
    "\n",
    "    A_ub.append(constraint1)\n",
    "    b_ub.append(M - duration_i)\n",
    "\n",
    "    constraint2 = np.zeros(num_vars)\n",
    "    constraint2[j] = 1\n",
    "    constraint2[i] = -1\n",
    "    constraint2[binary_var_idx] = -M\n",
    "\n",
    "    A_ub.append(constraint2)\n",
    "    b_ub.append(-duration_j)"
   ]
  },
  {
   "cell_type": "code",

   "execution_count": 24,

   "id": "0c8b582a",
   "metadata": {},
   "outputs": [],
   "source": [
    "# Convert to numpy arrays and create a list of constraints\n",
    "A_ub = np.array(A_ub)\n",
    "b_ub = np.array(b_ub)\n",
    "\n",
    "constraints = [LinearConstraint(A_ub, -np.inf, b_ub)]"
   ]
  },
  {
   "cell_type": "code",

   "execution_count": 25,

   "id": "ad38c15e",
   "metadata": {},
   "outputs": [
    {
     "name": "stdout",
     "output_type": "stream",
     "text": [
      "Optimal schedule length: 11.0 hours\n"
     ]
    }
   ],
   "source": [
    "result = milp(c=c, integrality=integrality, bounds=bounds, constraints=constraints)\n",
    "\n",
    "if result.success:\n",
    "    print(f\"Optimal schedule length: {result.x[makespan_idx()]:.1f} hours\")"
   ]
  },
  {
   "cell_type": "code",

   "execution_count": 26,

   "id": "cbafa754",
   "metadata": {},
   "outputs": [
    {
     "name": "stdout",
     "output_type": "stream",
     "text": [
      "\n",
      "============================================================\n",
      "CUSTOMER SERVICE SCHEDULE\n",
      "============================================================\n",
      "\n",
      "Optimal Schedule Length: 11.0 hours\n",
      "\n",
      "Customer Appointment Schedule:\n",
      "\n",
      "Customer 0:\n",
      "  Appointment 0: Agent 0, Time [0.0, 3.0]\n",
      "  Appointment 1: Agent 1, Time [4.0, 6.0]\n",
      "  Appointment 2: Agent 2, Time [9.0, 11.0]\n",
      "\n",
      "Customer 1:\n",
      "  Appointment 0: Agent 0, Time [3.0, 5.0]\n",
      "  Appointment 1: Agent 2, Time [5.0, 6.0]\n",
      "  Appointment 2: Agent 1, Time [7.0, 11.0]\n",
      "\n",
      "Customer 2:\n",
      "  Appointment 0: Agent 1, Time [0.0, 4.0]\n",
      "  Appointment 1: Agent 2, Time [6.0, 9.0]\n",
      "\n",
      "------------------------------------------------------------\n",
      "AGENT SCHEDULES\n",
      "------------------------------------------------------------\n",
      "\n",
      "Agent 0:\n",
      "  Customer 0 Appointment 0: [0.0, 3.0]\n",
      "  Customer 1 Appointment 0: [3.0, 5.0]\n",
      "\n",
      "Agent 1:\n",
      "  Customer 2 Appointment 0: [0.0, 4.0]\n",
      "  Customer 0 Appointment 1: [4.0, 6.0]\n",
      "  Customer 1 Appointment 2: [7.0, 11.0]\n",
      "\n",
      "Agent 2:\n",
      "  Customer 1 Appointment 1: [5.0, 6.0]\n",
      "  Customer 2 Appointment 1: [6.0, 9.0]\n",
      "  Customer 0 Appointment 2: [9.0, 11.0]\n"
     ]
    }
   ],
   "source": [
    "def print_agent_schedule(solution, customers_data, appointment_info, num_agents):\n",
    "    \"\"\"Print the agent schedule in a readable format\"\"\"\n",
    "    print(\"\\n\" + \"=\" * 60)\n",
    "    print(\"CUSTOMER SERVICE SCHEDULE\")\n",
    "    print(\"=\" * 60)\n",
    "\n",
    "    makespan = solution[makespan_idx()]\n",
    "    print(f\"\\nOptimal Schedule Length: {makespan:.1f} hours\")\n",
    "\n",
    "    # Extract start times\n",
    "    print(\"\\nCustomer Appointment Schedule:\")\n",
    "    for customer_id, customer in enumerate(customers_data):\n",
    "        print(f\"\\nCustomer {customer_id}:\")\n",
    "        for appt_id, (agent, duration) in enumerate(customer):\n",
    "            start = solution[start_var_idx(customer_id, appt_id)]\n",
    "            end = start + duration\n",
    "            print(\n",
    "                f\"  Appointment {appt_id}: Agent {agent}, Time [{start:.1f}, {end:.1f}]\"\n",
    "            )\n",
    "\n",
    "    # Show agent schedules\n",
    "    print(\"\\n\" + \"-\" * 60)\n",
    "    print(\"AGENT SCHEDULES\")\n",
    "    print(\"-\" * 60)\n",
    "\n",
    "    for agent in range(num_agents):\n",
    "        print(f\"\\nAgent {agent}:\")\n",
    "\n",
    "        # Find all appointments for this agent\n",
    "        agent_appointments = []\n",
    "        for idx, (customer_id, appt_id, appt_agent, duration) in enumerate(\n",
    "            appointment_info\n",
    "        ):\n",
    "            if appt_agent == agent:\n",
    "                start = solution[idx]\n",
    "                agent_appointments.append(\n",
    "                    {\n",
    "                        \"customer\": customer_id,\n",
    "                        \"appointment\": appt_id,\n",
    "                        \"start\": start,\n",
    "                        \"end\": start + duration,\n",
    "                    }\n",
    "                )\n",
    "\n",
    "        # Sort by start time\n",
    "        agent_appointments.sort(key=lambda x: x[\"start\"])\n",
    "\n",
    "        # Display timeline\n",
    "        for appt in agent_appointments:\n",
    "            print(\n",
    "                f\"  Customer {appt['customer']} Appointment {appt['appointment']}: [{appt['start']:.1f}, {appt['end']:.1f}]\"\n",
    "            )\n",
    "\n",
    "\n",
    "if result.success:\n",
    "    print_agent_schedule(result.x, customers_data, appointment_info, num_agents)\n",
    "else:\n",
    "    print(\"No feasible solution found!\")\n",
    "    print(f\"Status: {result.status}\")\n",
    "    print(f\"Message: {result.message}\")"
   ]
  },
  {
   "cell_type": "code",
   "execution_count": null,
   "id": "6fe498db",
   "metadata": {},
   "outputs": [],
   "source": []
  }
 ],
 "metadata": {
  "kernelspec": {
   "display_name": "base",
   "language": "python",
   "name": "python3"
  },
  "language_info": {
   "codemirror_mode": {
    "name": "ipython",
    "version": 3
   },
   "file_extension": ".py",
   "mimetype": "text/x-python",
   "name": "python",
   "nbconvert_exporter": "python",
   "pygments_lexer": "ipython3",
   "version": "3.12.7"
  }
 },
 "nbformat": 4,
 "nbformat_minor": 5
}
